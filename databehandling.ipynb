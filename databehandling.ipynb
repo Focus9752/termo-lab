{
 "cells": [
  {
   "cell_type": "code",
   "execution_count": 18,
   "metadata": {},
   "outputs": [
    {
     "data": {
      "text/html": [
       "<div>\n",
       "<style scoped>\n",
       "    .dataframe tbody tr th:only-of-type {\n",
       "        vertical-align: middle;\n",
       "    }\n",
       "\n",
       "    .dataframe tbody tr th {\n",
       "        vertical-align: top;\n",
       "    }\n",
       "\n",
       "    .dataframe thead th {\n",
       "        text-align: right;\n",
       "    }\n",
       "</style>\n",
       "<table border=\"1\" class=\"dataframe\">\n",
       "  <thead>\n",
       "    <tr style=\"text-align: right;\">\n",
       "      <th></th>\n",
       "      <th>T  [C]</th>\n",
       "      <th>P [kPa]</th>\n",
       "    </tr>\n",
       "  </thead>\n",
       "  <tbody>\n",
       "    <tr>\n",
       "      <th>0</th>\n",
       "      <td>1.6</td>\n",
       "      <td>94.603</td>\n",
       "    </tr>\n",
       "    <tr>\n",
       "      <th>1</th>\n",
       "      <td>98.0</td>\n",
       "      <td>115.907</td>\n",
       "    </tr>\n",
       "    <tr>\n",
       "      <th>2</th>\n",
       "      <td>3.9</td>\n",
       "      <td>95.045</td>\n",
       "    </tr>\n",
       "    <tr>\n",
       "      <th>3</th>\n",
       "      <td>97.5</td>\n",
       "      <td>115.970</td>\n",
       "    </tr>\n",
       "    <tr>\n",
       "      <th>4</th>\n",
       "      <td>1.6</td>\n",
       "      <td>94.792</td>\n",
       "    </tr>\n",
       "  </tbody>\n",
       "</table>\n",
       "</div>"
      ],
      "text/plain": [
       "   T  [C]  P [kPa]\n",
       "0     1.6   94.603\n",
       "1    98.0  115.907\n",
       "2     3.9   95.045\n",
       "3    97.5  115.970\n",
       "4     1.6   94.792"
      ]
     },
     "metadata": {},
     "output_type": "display_data"
    },
    {
     "name": "stdout",
     "output_type": "stream",
     "text": [
      "Uncertainty in T: 0.707106781186547 C\n",
      "Uncertainty in P: 0.10538683435188675 kPa\n"
     ]
    }
   ],
   "source": [
    "import pandas as pd\n",
    "import numpy as np\n",
    "import matplotlib.pyplot as plt\n",
    "\n",
    "# Read data\n",
    "data = pd.read_excel(r\"C:\\Users\\marcu\\OneDrive\\Documents\\GitHub\\termo-lab\\Det absolutte nulpunkt\\Datafiler\\temperaturogtryk.xlsx\")\n",
    "\n",
    "display(data.head())\n",
    "\n",
    "T = data.iloc[:,0].tolist()\n",
    "P = data.iloc[:,1].tolist()\n",
    "\n",
    "# Uncertainties\n",
    "dT = np.mean([np.std([T[0], T[2], T[4]]), np.std([T[1], T[3], T[5]])])\n",
    "dP = np.mean([np.std([P[0], P[2], P[4]]), np.std([P[1], P[3], P[5]])])\n",
    "\n",
    "print(f\"Uncertainty in T: {dT} C\")\n",
    "print(f\"Uncertainty in P: {dP} kPa\")\n",
    "\n",
    "\n"
   ]
  }
 ],
 "metadata": {
  "kernelspec": {
   "display_name": "base",
   "language": "python",
   "name": "python3"
  },
  "language_info": {
   "codemirror_mode": {
    "name": "ipython",
    "version": 3
   },
   "file_extension": ".py",
   "mimetype": "text/x-python",
   "name": "python",
   "nbconvert_exporter": "python",
   "pygments_lexer": "ipython3",
   "version": "3.11.4"
  }
 },
 "nbformat": 4,
 "nbformat_minor": 2
}
