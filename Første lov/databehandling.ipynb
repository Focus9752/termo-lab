{
 "cells": [
  {
   "cell_type": "code",
   "execution_count": 4,
   "metadata": {},
   "outputs": [
    {
     "ename": "ValueError",
     "evalue": "Some errors were detected !\n    Line #2 (got 1 columns instead of 4)\n    Line #3 (got 1 columns instead of 4)\n    Line #4 (got 1 columns instead of 4)\n    Line #5 (got 1 columns instead of 4)\n    Line #6 (got 1 columns instead of 4)\n    Line #7 (got 1 columns instead of 4)\n    Line #8 (got 1 columns instead of 4)\n    Line #9 (got 1 columns instead of 4)\n    Line #10 (got 1 columns instead of 4)\n    Line #11 (got 1 columns instead of 4)\n    Line #12 (got 1 columns instead of 4)\n    Line #13 (got 1 columns instead of 4)",
     "output_type": "error",
     "traceback": [
      "\u001b[1;31m---------------------------------------------------------------------------\u001b[0m",
      "\u001b[1;31mValueError\u001b[0m                                Traceback (most recent call last)",
      "Cell \u001b[1;32mIn[4], line 5\u001b[0m\n\u001b[0;32m      2\u001b[0m \u001b[38;5;28;01mfrom\u001b[39;00m \u001b[38;5;21;01mscipy\u001b[39;00m\u001b[38;5;21;01m.\u001b[39;00m\u001b[38;5;21;01moptimize\u001b[39;00m \u001b[38;5;28;01mimport\u001b[39;00m curve_fit\n\u001b[0;32m      3\u001b[0m \u001b[38;5;28;01mimport\u001b[39;00m \u001b[38;5;21;01mmatplotlib\u001b[39;00m\u001b[38;5;21;01m.\u001b[39;00m\u001b[38;5;21;01mpyplot\u001b[39;00m \u001b[38;5;28;01mas\u001b[39;00m \u001b[38;5;21;01mplt\u001b[39;00m\n\u001b[1;32m----> 5\u001b[0m Data \u001b[38;5;241m=\u001b[39m np\u001b[38;5;241m.\u001b[39mgenfromtxt(\u001b[38;5;124m'\u001b[39m\u001b[38;5;124mførste.csv\u001b[39m\u001b[38;5;124m'\u001b[39m)\n",
      "File \u001b[1;32mc:\\Users\\chris\\anaconda3\\Lib\\site-packages\\numpy\\lib\\npyio.py:2309\u001b[0m, in \u001b[0;36mgenfromtxt\u001b[1;34m(fname, dtype, comments, delimiter, skip_header, skip_footer, converters, missing_values, filling_values, usecols, names, excludelist, deletechars, replace_space, autostrip, case_sensitive, defaultfmt, unpack, usemask, loose, invalid_raise, max_rows, encoding, ndmin, like)\u001b[0m\n\u001b[0;32m   2307\u001b[0m \u001b[38;5;66;03m# Raise an exception ?\u001b[39;00m\n\u001b[0;32m   2308\u001b[0m \u001b[38;5;28;01mif\u001b[39;00m invalid_raise:\n\u001b[1;32m-> 2309\u001b[0m     \u001b[38;5;28;01mraise\u001b[39;00m \u001b[38;5;167;01mValueError\u001b[39;00m(errmsg)\n\u001b[0;32m   2310\u001b[0m \u001b[38;5;66;03m# Issue a warning ?\u001b[39;00m\n\u001b[0;32m   2311\u001b[0m \u001b[38;5;28;01melse\u001b[39;00m:\n\u001b[0;32m   2312\u001b[0m     warnings\u001b[38;5;241m.\u001b[39mwarn(errmsg, ConversionWarning, stacklevel\u001b[38;5;241m=\u001b[39m\u001b[38;5;241m2\u001b[39m)\n",
      "\u001b[1;31mValueError\u001b[0m: Some errors were detected !\n    Line #2 (got 1 columns instead of 4)\n    Line #3 (got 1 columns instead of 4)\n    Line #4 (got 1 columns instead of 4)\n    Line #5 (got 1 columns instead of 4)\n    Line #6 (got 1 columns instead of 4)\n    Line #7 (got 1 columns instead of 4)\n    Line #8 (got 1 columns instead of 4)\n    Line #9 (got 1 columns instead of 4)\n    Line #10 (got 1 columns instead of 4)\n    Line #11 (got 1 columns instead of 4)\n    Line #12 (got 1 columns instead of 4)\n    Line #13 (got 1 columns instead of 4)"
     ]
    }
   ],
   "source": [
    "import numpy as np\n",
    "from scipy.optimize import curve_fit\n",
    "import matplotlib.pyplot as plt\n",
    "\n",
    "Data = np.genfromtxt('første.csv', skip_header=1)\n"
   ]
  }
 ],
 "metadata": {
  "kernelspec": {
   "display_name": "base",
   "language": "python",
   "name": "python3"
  },
  "language_info": {
   "codemirror_mode": {
    "name": "ipython",
    "version": 3
   },
   "file_extension": ".py",
   "mimetype": "text/x-python",
   "name": "python",
   "nbconvert_exporter": "python",
   "pygments_lexer": "ipython3",
   "version": "3.11.4"
  }
 },
 "nbformat": 4,
 "nbformat_minor": 2
}
