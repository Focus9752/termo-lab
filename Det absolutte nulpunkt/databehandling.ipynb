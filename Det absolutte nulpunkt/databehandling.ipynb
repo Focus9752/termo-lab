{
 "cells": [
  {
   "cell_type": "code",
   "execution_count": 2,
   "metadata": {},
   "outputs": [
    {
     "data": {
      "text/html": [
       "<div>\n",
       "<style scoped>\n",
       "    .dataframe tbody tr th:only-of-type {\n",
       "        vertical-align: middle;\n",
       "    }\n",
       "\n",
       "    .dataframe tbody tr th {\n",
       "        vertical-align: top;\n",
       "    }\n",
       "\n",
       "    .dataframe thead th {\n",
       "        text-align: right;\n",
       "    }\n",
       "</style>\n",
       "<table border=\"1\" class=\"dataframe\">\n",
       "  <thead>\n",
       "    <tr style=\"text-align: right;\">\n",
       "      <th></th>\n",
       "      <th>T  [C]</th>\n",
       "      <th>P [kPa]</th>\n",
       "    </tr>\n",
       "  </thead>\n",
       "  <tbody>\n",
       "    <tr>\n",
       "      <th>0</th>\n",
       "      <td>1.6</td>\n",
       "      <td>94.603</td>\n",
       "    </tr>\n",
       "    <tr>\n",
       "      <th>1</th>\n",
       "      <td>98.0</td>\n",
       "      <td>115.907</td>\n",
       "    </tr>\n",
       "    <tr>\n",
       "      <th>2</th>\n",
       "      <td>3.9</td>\n",
       "      <td>95.045</td>\n",
       "    </tr>\n",
       "    <tr>\n",
       "      <th>3</th>\n",
       "      <td>97.5</td>\n",
       "      <td>115.970</td>\n",
       "    </tr>\n",
       "    <tr>\n",
       "      <th>4</th>\n",
       "      <td>1.6</td>\n",
       "      <td>94.792</td>\n",
       "    </tr>\n",
       "  </tbody>\n",
       "</table>\n",
       "</div>"
      ],
      "text/plain": [
       "   T  [C]  P [kPa]\n",
       "0     1.6   94.603\n",
       "1    98.0  115.907\n",
       "2     3.9   95.045\n",
       "3    97.5  115.970\n",
       "4     1.6   94.792"
      ]
     },
     "metadata": {},
     "output_type": "display_data"
    },
    {
     "name": "stdout",
     "output_type": "stream",
     "text": [
      "Uncertainty in T: 0.7071067811865389 C\n",
      "Uncertainty in P: 0.10538683435188675 kPa\n"
     ]
    }
   ],
   "source": [
    "import pandas as pd\n",
    "import numpy as np\n",
    "import matplotlib.pyplot as plt\n",
    "from scipy.optimize import curve_fit\n",
    "\n",
    "# Read data\n",
    "data = pd.read_excel(r\"C:\\Users\\marcu\\OneDrive\\Documents\\GitHub\\termo-lab\\Det absolutte nulpunkt\\Datafiler\\temperaturogtryk.xlsx\")\n",
    "\n",
    "display(data.head())\n",
    "\n",
    "T = data.iloc[:,0].tolist()\n",
    "T = [t + 273.15 for t in T]\n",
    "\n",
    "P = data.iloc[:,1].tolist()\n",
    "\n",
    "T_icebath = np.mean([T[0], T[2], T[4]])\n",
    "T_boiling = np.mean([T[1], T[3], T[5]])\n",
    "\n",
    "P_icebath = np.mean([P[0], P[2], P[4]])\n",
    "P_boiling = np.mean([P[1], P[3], P[5]])\n",
    "\n",
    "# Uncertainties\n",
    "dT = np.mean([np.std([T[0], T[2], T[4]]), np.std([T[1], T[3], T[5]])])\n",
    "dP = np.mean([np.std([P[0], P[2], P[4]]), np.std([P[1], P[3], P[5]])])\n",
    "\n",
    "print(f\"Uncertainty in T: {dT} C\")\n",
    "print(f\"Uncertainty in P: {dP} kPa\")\n",
    "\n",
    "\n",
    "\n"
   ]
  },
  {
   "cell_type": "markdown",
   "metadata": {},
   "source": [
    "Linear regression and calibration line"
   ]
  },
  {
   "cell_type": "code",
   "execution_count": 3,
   "metadata": {},
   "outputs": [
    {
     "name": "stdout",
     "output_type": "stream",
     "text": [
      "4.583443840611532 -160.8136221106088\n",
      "0.019184154398575202 2.0768917368697077\n",
      "4.583443840611532 -160.8136221106088\n",
      "0.02323299041651894 2.5152219614292606\n"
     ]
    }
   ],
   "source": [
    "# 1. fit\n",
    "linear = lambda x, a, b: a*x + b\n",
    "popt, pcov = curve_fit(linear, P, T, sigma=[dT]*len(T), absolute_sigma=True)\n",
    "a, b = popt\n",
    "da, db = np.sqrt(np.diag(pcov))\n",
    "\n",
    "print(a, b)\n",
    "print(da, db)\n",
    "\n",
    "dT_from_dP = a*dP\n",
    "dT = np.sqrt(dT_from_dP**2 + dT**2)\n",
    "\n",
    "# 2. fit\n",
    "popt2, pcov2 = curve_fit(linear, P, T, sigma=[dT]*len(P), absolute_sigma=True)\n",
    "a2, b2 = popt2\n",
    "da2, db2 = np.sqrt(np.diag(pcov2))\n",
    "\n",
    "print(a,b)\n",
    "print(da2, db2)\n"
   ]
  },
  {
   "cell_type": "code",
   "execution_count": 4,
   "metadata": {},
   "outputs": [
    {
     "name": "stdout",
     "output_type": "stream",
     "text": [
      "Chi squared: 77.7967073078697\n",
      "Reduced chi squared: 2.431147103370928\n"
     ]
    }
   ],
   "source": [
    "# chi_kvadrat\n",
    "def module_chi_squared(obs_data, model_data, obs_data_uncert):\n",
    "    chi_squared = np.sum(((obs_data - model_data) / obs_data_uncert) ** 2)\n",
    "    return chi_squared\n",
    "\n",
    "# Reduceret chi_kvadrat\n",
    "def module_chi_squared_reduced(obs_data, model_data, obs_data_uncert, num_params):\n",
    "    chi_squared_reduced = module_chi_squared(obs_data, model_data, obs_data_uncert) / (len(obs_data) - num_params)\n",
    "    return chi_squared_reduced\n",
    "\n",
    "chi_squared = module_chi_squared(T, linear(np.array(P), a, b), dT)\n",
    "chi_squared_reduced = module_chi_squared_reduced(T, linear(np.array(P), a, b), dT, 2)\n",
    "\n",
    "print(f\"Chi squared: {chi_squared}\")\n",
    "print(f\"Reduced chi squared: {chi_squared_reduced}\")\n",
    "\n"
   ]
  },
  {
   "cell_type": "code",
   "execution_count": 10,
   "metadata": {},
   "outputs": [
    {
     "data": {
      "image/png": "[encoded data removed]",
      "text/plain": [
       "<Figure size 640x480 with 1 Axes>"
      ]
     },
     "metadata": {},
     "output_type": "display_data"
    },
    {
     "name": "stdout",
     "output_type": "stream",
     "text": [
      "Absolute zero according to fit: -160.8 +/- 2.5 K\n",
      "Absolute zero according to calibration line: -151.5 K\n",
      "Z-value for the linear fit: 53.7\n",
      "Z-value for the calibration line: inf\n"
     ]
    },
    {
     "name": "stderr",
     "output_type": "stream",
     "text": [
      "C:\\Users\\marcu\\AppData\\Local\\Temp\\ipykernel_20224\\3404628514.py:21: RuntimeWarning: divide by zero encountered in scalar divide\n",
      "  z_val = lambda a, b, da, db: abs(a-b) / np.sqrt(da**2 + db**2)\n"
     ]
    }
   ],
   "source": [
    "\n",
    "\n",
    "# Calibration line\n",
    "a_cal = (T_boiling - T_icebath)/(P_boiling - P_icebath)\n",
    "cal_line = lambda x: a_cal*(x-P_icebath) + T_icebath\n",
    "\n",
    "X = np.linspace(min([P_icebath, P[0]]), max([P_boiling, P[-1]]), 100000)\n",
    "\n",
    "# Plot\n",
    "plt.figure()\n",
    "plt.errorbar(P, T, xerr=dP, yerr=dT, fmt='x', label=\"Data\", color='black', ecolor='red', capsize=3)\n",
    "plt.plot(X, linear(X, a2, b2), label=f\"Linear fit\")\n",
    "plt.plot(X, cal_line(X), label=f\"Calibration line\")\n",
    "plt.xlabel(\"P [kPa]\")\n",
    "plt.ylabel(\"T [K]\")\n",
    "plt.legend()\n",
    "plt.grid()\n",
    "plt.show()\n",
    "\n",
    "print(\"Absolute zero according to fit: {:.1f} +/- {:.1f} K\".format(b2, db2))\n",
    "print(\"Absolute zero according to calibration line: {:.1f} K\".format(cal_line(0)))\n",
    "\n",
    "z_val = lambda a, b, da, db: abs(a-b) / np.sqrt(da**2 + db**2)\n",
    "\n",
    "print(\"Z-value for the linear fit: {:.1f}\".format(z_val(-161, 0, 3, 0)))\n"
   ]
  },
  {
   "cell_type": "code",
   "execution_count": 6,
   "metadata": {},
   "outputs": [
    {
     "name": "stdout",
     "output_type": "stream",
     "text": [
      "4.58344387161268 -160.81362547192433\n",
      "0.02323299041651894 2.5152219614292606\n"
     ]
    }
   ],
   "source": [
    "# Parameters and uncertainty\n",
    "print(a2, b2)\n",
    "print(da2, db2)"
   ]
  }
 ],
 "metadata": {
  "kernelspec": {
   "display_name": "base",
   "language": "python",
   "name": "python3"
  },
  "language_info": {
   "codemirror_mode": {
    "name": "ipython",
    "version": 3
   },
   "file_extension": ".py",
   "mimetype": "text/x-python",
   "name": "python",
   "nbconvert_exporter": "python",
   "pygments_lexer": "ipython3",
   "version": "3.11.4"
  }
 },
 "nbformat": 4,
 "nbformat_minor": 2
}
